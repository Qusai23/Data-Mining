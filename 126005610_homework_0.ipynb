{
  "nbformat": 4,
  "nbformat_minor": 0,
  "metadata": {
    "anaconda-cloud": {},
    "kernelspec": {
      "display_name": "Python 3",
      "language": "python",
      "name": "python3"
    },
    "language_info": {
      "codemirror_mode": {
        "name": "ipython",
        "version": 3
      },
      "file_extension": ".py",
      "mimetype": "text/x-python",
      "name": "python",
      "nbconvert_exporter": "python",
      "pygments_lexer": "ipython3",
      "version": "3.8.8"
    },
    "colab": {
      "name": "126005610_homework_0.ipynb",
      "provenance": [],
      "collapsed_sections": []
    }
  },
  "cells": [
    {
      "cell_type": "markdown",
      "metadata": {
        "id": "d8HHdIm8v5iM"
      },
      "source": [
        "#### CSCE 676 :: Data Mining and Analysis :: Texas A&M University :: Fall 2021\n",
        "\n",
        "\n",
        "# Homework 0: Let's get it started\n",
        "\n",
        "- **100 points [2% of your final grade]**\n",
        "- **Due Tuesday, September 7 by 11:59pm**\n",
        "\n",
        "*Goals of this homework:* The objective of this homework is to prepare your development environment, get familiar with iPython in a Jupyter notebook as well as google colab, and then do some beginning exercises.\n",
        "\n",
        "*Submission instructions:* You should post your notebook to Canvas (look for the homework 0 assignment there). Please name your submission **your-uin_hw0.ipynb**, so for example, my submission would be something like **555001234_hw0.ipynb**. Your notebook should be fully executed on google colab when you submit ... so run all the cells for us so we can see the output, then submit that.\n",
        "\n",
        "*Grading:* This is a stress-free homework. For this starter homework, we will only check that you have submitted a notebook with at least some code to Canvas. We will not check for completeness or correctness. Basically, do your best and submit = 100."
      ]
    },
    {
      "cell_type": "markdown",
      "metadata": {
        "id": "6F-UnJ_Ev5iT"
      },
      "source": [
        "## iPython, Python, and our Expectations\n",
        "\n",
        "This homework and all subsequent homeworks will use iPython in a Jupyter notebook. iPython is just an interactive shell for programming in the Python language. A few years ago, the developers created a generic interactive shell called Jupyter that supports languages beyond just Python. This can be a bit confusing, and we'll add a bit to the confusion by referring to iPython and Jupyter interchangeably in this course.\n",
        "\n",
        "With respect to Python, we do not expect you to have any prior experience. We do, however, expect you to have proficiency in some programming language (so you've seen loops, conditionals, functions, etc.) and a willingness to experiment and learn on your own. Python is a fun language and you should be able to pick up the necessary portions as we move along; however, this may require you to spend some extra cycles consulting online documentation, referring to a Python book, or scouring over StackOverflow. \n",
        "\n",
        "A few basic Python pointers:\n",
        "* http://introtopython.org\n",
        "* http://ricardoduarte.github.io/python-for-developers/\n",
        "* http://mbakker7.github.io/exploratory_computing_with_python/ [particularly the basic Python language ones]\n",
        "\n",
        "We expect your code to be well-documented with appropriate comments. We prefer meaningful variable names and function names. We also expect your code to be compact and sensible -- no super-long lines, nor dense unintelligible lines of code.\n",
        "\n",
        "Note that in this course we will use Python 3.7.\n",
        "\n",
        "In general, Python code is often run from standalone Python modules or files; for this class, we will often run Python from here within the iPython notebook.\n",
        "\n",
        "Now that you're ready, let's take a look at this iPython notebook. You'll notice that it is composed of cells. Some cells have text (like this one), while others contain code and comments. This cell is written in **Markdown** a simple text-to-HTML language. You can find a cheat sheet for Markdown here: https://github.com/adam-p/markdown-here/wiki/Markdown-Cheatsheet. You can toggle a cell between Markdown and code with the toggle button up there on the menu bar.\n",
        "\n",
        "The cell below contains code and can be **executed** by hitting the **Play** button on the menu bar or by hitting **shift + enter**."
      ]
    },
    {
      "cell_type": "code",
      "metadata": {
        "colab": {
          "base_uri": "https://localhost:8080/"
        },
        "id": "-qVVzODAv5iU",
        "outputId": "1a7f472c-d096-44c5-9a89-b59f2f66cf1d"
      },
      "source": [
        "# this is a comment\n",
        "# you can execute this cell by hitting shift+enter\n",
        "# the output will appear immediately below\n",
        "print('Hello world!')"
      ],
      "execution_count": 1,
      "outputs": [
        {
          "output_type": "stream",
          "name": "stdout",
          "text": [
            "Hello world!\n"
          ]
        }
      ]
    },
    {
      "cell_type": "markdown",
      "metadata": {
        "id": "fkvGXg-3v5iX"
      },
      "source": [
        "Since iPython is just an interactive shell around Python, you can define functions. For example:"
      ]
    },
    {
      "cell_type": "code",
      "metadata": {
        "colab": {
          "base_uri": "https://localhost:8080/"
        },
        "id": "-2aQUe5Ev5iY",
        "outputId": "a1f05230-edd5-4e5d-f87d-4f5c40c747e4"
      },
      "source": [
        "def cubed(x):\n",
        "    \"\"\" Return the cube of a  \n",
        "        value \"\"\"\n",
        "    return x ** 3\n",
        "\n",
        "cubed(3)"
      ],
      "execution_count": 2,
      "outputs": [
        {
          "output_type": "execute_result",
          "data": {
            "text/plain": [
              "27"
            ]
          },
          "metadata": {},
          "execution_count": 2
        }
      ]
    },
    {
      "cell_type": "markdown",
      "metadata": {
        "id": "So94R8_Lv5iY"
      },
      "source": [
        "You can even access the filesystem with commands like `ls` or `pwd`:"
      ]
    },
    {
      "cell_type": "code",
      "metadata": {
        "colab": {
          "base_uri": "https://localhost:8080/"
        },
        "id": "WQ6qp6_2v5iZ",
        "outputId": "9b5bd2df-8f40-485b-891b-fee266e9c425"
      },
      "source": [
        "!pwd\n",
        "!ls"
      ],
      "execution_count": 3,
      "outputs": [
        {
          "output_type": "stream",
          "name": "stdout",
          "text": [
            "/content\n",
            "sample_data\n"
          ]
        }
      ]
    },
    {
      "cell_type": "markdown",
      "metadata": {
        "id": "VQhfQPvCv5iZ"
      },
      "source": [
        "## Getting Started with Numpy and matplotlib\n",
        "\n",
        "In this part, we're going to get familiar with two important libraries -- Numpy and matplotlib.\n",
        "\n",
        "### Into to Numpy\n",
        "Since Python is an interpreted language, it might not seem like the best choice for data-intensive work. Luckily, almost all of our data workflow stack is built on top of Numpy, a Python library that adds support for large, multi-dimensional arrays and matrices, along with a large library of high-level mathematical functions to operate on these arrays."
      ]
    },
    {
      "cell_type": "code",
      "metadata": {
        "colab": {
          "base_uri": "https://localhost:8080/"
        },
        "id": "Mbtn5G9Qv5ia",
        "outputId": "9851d2ca-add8-40e3-e2b7-2d6a5214f4c2"
      },
      "source": [
        "import numpy as np\n",
        "\n",
        "print(\"Make a 4 row x 2 column matrix of random numbers\")\n",
        "x = np.random.random((4, 2))\n",
        "print(x)\n",
        "print()\n",
        "\n",
        "print(\"Add 10 to every element\")\n",
        "x = x + 10\n",
        "print(x)\n",
        "print()\n",
        "\n",
        "print(\"Get the element at row 3, column 1\")\n",
        "print(x[3, 1])\n",
        "print()\n",
        "\n",
        "print(\"Get the first row\")\n",
        "print(x[0, :])\n",
        "print()\n",
        "\n",
        "print(\"Get the first two rows\")\n",
        "print(x[:2])\n",
        "print()"
      ],
      "execution_count": 4,
      "outputs": [
        {
          "output_type": "stream",
          "name": "stdout",
          "text": [
            "Make a 4 row x 2 column matrix of random numbers\n",
            "[[0.39760637 0.02265474]\n",
            " [0.95016082 0.39301574]\n",
            " [0.72482875 0.65562669]\n",
            " [0.40469562 0.99213001]]\n",
            "\n",
            "Add 10 to every element\n",
            "[[10.39760637 10.02265474]\n",
            " [10.95016082 10.39301574]\n",
            " [10.72482875 10.65562669]\n",
            " [10.40469562 10.99213001]]\n",
            "\n",
            "Get the element at row 3, column 1\n",
            "10.992130014928243\n",
            "\n",
            "Get the first row\n",
            "[10.39760637 10.02265474]\n",
            "\n",
            "Get the first two rows\n",
            "[[10.39760637 10.02265474]\n",
            " [10.95016082 10.39301574]]\n",
            "\n"
          ]
        }
      ]
    },
    {
      "cell_type": "markdown",
      "metadata": {
        "id": "LBfzDGJ_v5ib"
      },
      "source": [
        "Now, it's your turn. Find the maximum, minimum, and mean of the array. This does not require writing a loop. In the code cell below, type `x.m<TAB>`, to find built-in operations that may help you out."
      ]
    },
    {
      "cell_type": "code",
      "metadata": {
        "colab": {
          "base_uri": "https://localhost:8080/"
        },
        "id": "P1GMGk-vv5ib",
        "outputId": "a6fdf07e-142c-4e19-8c76-64cb53db9554"
      },
      "source": [
        "# your code here\n",
        "print(f\"max: {x.max()}\")\n",
        "print(f\"min: {x.min()}\")\n",
        "print(f\"mean: {x.mean()}\")\n",
        "\n"
      ],
      "execution_count": 11,
      "outputs": [
        {
          "output_type": "stream",
          "name": "stdout",
          "text": [
            "max: 10.992130014928243\n",
            "min: 10.022654739728052\n",
            "mean: 10.567589843393002\n"
          ]
        }
      ]
    },
    {
      "cell_type": "markdown",
      "metadata": {
        "id": "fgI9RqF7v5ic"
      },
      "source": [
        "That wasy easy! Now, let's see if you can generate 500 numbers from a uniform distribution between 0 and 10,000, inclusive. That is each random number could be 0, 1, 2, ..., 10,000 with equal chance. What is the maximum, minimum, and mean of these 500 random numbers? *Hint: take a look at np.random* "
      ]
    },
    {
      "cell_type": "code",
      "metadata": {
        "colab": {
          "base_uri": "https://localhost:8080/"
        },
        "id": "t1v_SEHmv5ic",
        "outputId": "37f42f3a-38be-4615-f533-fba909af844f"
      },
      "source": [
        "# your code here\n",
        "r = np.random.uniform(0,10000,500)\n",
        "r.shape\n",
        "print(f\"max: {r.max()}\")\n",
        "print(f\"min: {r.min()}\")\n",
        "print(f\"mean: {r.mean()}\")"
      ],
      "execution_count": 24,
      "outputs": [
        {
          "output_type": "stream",
          "name": "stdout",
          "text": [
            "max: 9986.235906833306\n",
            "min: 0.8409964473676812\n",
            "mean: 4847.2821971148305\n"
          ]
        }
      ]
    },
    {
      "cell_type": "markdown",
      "metadata": {
        "id": "yyhR9Mkbv5ic"
      },
      "source": [
        "### Intro to matplotlib\n",
        "The most widespread Python plotting library is matplotlib. With it, you can create graphs, charts, basic maps, and other data visualizations. Later in the semester, we'll use `seaborn`, a library built on top of matplotlib that provides even more beautiful charts.\n",
        "\n",
        "Below, we provide some simple x and y coordinates that are then plotted. You should update the plot to include:\n",
        "* a label for the x-axis (call it 'X-axis')\n",
        "* a label for the y-axis (call it 'Y-axis')\n",
        "* a label for the x, y1 curve (call it 'Alice')\n",
        "* a label for the x, y2 curve (call it 'Bob')\n",
        "* a legend in the lower right corner"
      ]
    },
    {
      "cell_type": "code",
      "metadata": {
        "colab": {
          "base_uri": "https://localhost:8080/",
          "height": 296
        },
        "id": "v0e9m9dpv5id",
        "outputId": "97e4ca24-9ca2-4f5b-e3f9-11fb89aec864"
      },
      "source": [
        "# this line prepares IPython for working with matplotlib\n",
        "%matplotlib inline  \n",
        "\n",
        "import matplotlib.pyplot as plt  \n",
        "\n",
        "x = [0, 1, 2, 3, 4]  \n",
        "y1 = [10, 12, 10, 10, 12]\n",
        "y2 = [8, 9, 9, 11, 12]\n",
        "plt.plot(x, y1, label = \"Alice\")\n",
        "plt.plot(x, y2, label = \"Bob\")\n",
        "plt.xlabel(\"X-Axis\")\n",
        "plt.ylabel(\"Y-Axis\")\n",
        "plt.legend()\n",
        " \n",
        "# your code here (plus you may need to modify the previous two lines)"
      ],
      "execution_count": 30,
      "outputs": [
        {
          "output_type": "execute_result",
          "data": {
            "text/plain": [
              "<matplotlib.legend.Legend at 0x7f8a5eb64250>"
            ]
          },
          "metadata": {},
          "execution_count": 30
        },
        {
          "output_type": "display_data",
          "data": {
            "image/png": "[encoded data removed]",
            "text/plain": [
              "<Figure size 432x288 with 1 Axes>"
            ]
          },
          "metadata": {
            "needs_background": "light"
          }
        }
      ]
    },
    {
      "cell_type": "markdown",
      "metadata": {
        "id": "V4Ct1cvev5id"
      },
      "source": [
        "## Python Data Structures\n",
        "Here we introduce some of the popular built-in data structures in Python: list, set and dictionary.\n",
        "#### List"
      ]
    },
    {
      "cell_type": "code",
      "metadata": {
        "colab": {
          "base_uri": "https://localhost:8080/"
        },
        "id": "qGEgG4XSv5ie",
        "outputId": "d77f000b-d173-434f-c2e2-fe26959ac8c8"
      },
      "source": [
        "x=[1, 5, 6, 3, 4, 0]\n",
        "print('Add item 7 to the list')\n",
        "x.append(7)\n",
        "print(x)\n",
        "print()\n",
        "\n",
        "print('Remove item 4 from the list')\n",
        "x.remove(4)\n",
        "print(x)\n",
        "print()\n",
        "\n",
        "print('Insert item 3 at a position 2')\n",
        "x.insert(2,3)\n",
        "print(x)\n",
        "print()"
      ],
      "execution_count": 36,
      "outputs": [
        {
          "output_type": "stream",
          "name": "stdout",
          "text": [
            "Add item 7 to the list\n",
            "[1, 5, 6, 3, 4, 0, 7]\n",
            "\n",
            "Remove item 4 from the list\n",
            "[1, 5, 6, 3, 0, 7]\n",
            "\n",
            "Insert item 3 at a position 2\n",
            "[1, 5, 3, 6, 3, 0, 7]\n",
            "\n"
          ]
        }
      ]
    },
    {
      "cell_type": "markdown",
      "metadata": {
        "id": "q-DVclC2v5ie"
      },
      "source": [
        "Now, it's your turn. Sort the list and then reverse the list. In the code cell below, type x.<TAB>, to find built-in operations that may help you out."
      ]
    },
    {
      "cell_type": "code",
      "metadata": {
        "colab": {
          "base_uri": "https://localhost:8080/"
        },
        "id": "e6N-5otqv5ie",
        "outputId": "c0fe8ea3-617c-4379-f570-dab9277e5683"
      },
      "source": [
        "#your code here\n",
        "print(f\"sorted list: {sorted(x)}\") \n",
        "print(f\"reversed list: {x[::-1]}\")"
      ],
      "execution_count": 39,
      "outputs": [
        {
          "output_type": "stream",
          "name": "stdout",
          "text": [
            "sorted list: [0, 1, 3, 3, 5, 6, 7]\n",
            "reversed list: [7, 0, 3, 6, 3, 5, 1]\n"
          ]
        }
      ]
    },
    {
      "cell_type": "markdown",
      "metadata": {
        "id": "UJdjOVwSv5if"
      },
      "source": [
        "#### Set \n",
        "A set is an unordered collection with no duplicate elements."
      ]
    },
    {
      "cell_type": "code",
      "metadata": {
        "colab": {
          "base_uri": "https://localhost:8080/"
        },
        "id": "FnzdpeuVv5if",
        "outputId": "c8be9d47-77af-46cb-e60c-c3ab4d5f34c7"
      },
      "source": [
        "s1=set([1,2,'a','c'])\n",
        "s2=set([4,5,'d','c'])\n",
        "print(s1)\n",
        "print(s2)\n",
        "print()\n",
        "\n",
        "print('Check if item a is in set s1')\n",
        "print('a' in s1)\n",
        "print()\n",
        "\n",
        "print('return union of s1 and s2')\n",
        "print(s1.union(s2))\n",
        "print()\n",
        "\n",
        "print('return intersection of s1 and s2')\n",
        "print(s1.intersection(s2))\n",
        "print()"
      ],
      "execution_count": 59,
      "outputs": [
        {
          "output_type": "stream",
          "name": "stdout",
          "text": [
            "{'c', 1, 2, 'a'}\n",
            "{'d', 'c', 4, 5}\n",
            "\n",
            "Check if item a is in set s1\n",
            "True\n",
            "\n",
            "return union of s1 and s2\n",
            "{1, 2, 'a', 4, 5, 'd', 'c'}\n",
            "\n",
            "return intersection of s1 and s2\n",
            "{'c'}\n",
            "\n"
          ]
        }
      ]
    },
    {
      "cell_type": "markdown",
      "metadata": {
        "id": "di8kgkVNv5ig"
      },
      "source": [
        "Now it's your turn to try out .add(), .remove(), .issubset() and .issuperset() built-in operations and report the results. "
      ]
    },
    {
      "cell_type": "code",
      "metadata": {
        "colab": {
          "base_uri": "https://localhost:8080/"
        },
        "id": "NLhyIGiHv5ig",
        "outputId": "afd2147d-63a4-41b6-a87b-12f5e5c581ea"
      },
      "source": [
        "#your code here\n",
        "s1.add(0)\n",
        "s1.remove('a')\n",
        "print(s1)\n",
        "print(f\"is s1 a subset of s2: {s1.issubset(s2)}\")\n",
        "print(f\"is s1 an uperset set of s2: {s1.issuperset(s2)}\")\n"
      ],
      "execution_count": 60,
      "outputs": [
        {
          "output_type": "stream",
          "name": "stdout",
          "text": [
            "{0, 1, 2, 'c'}\n",
            "is s1 a subset of s2: False\n",
            "is s1 an uperset set of s2: False\n"
          ]
        }
      ]
    },
    {
      "cell_type": "markdown",
      "metadata": {
        "id": "mloN_hCLv5ih"
      },
      "source": [
        "#### Dictionary\n",
        "Unlike sequential data structures, which are indexed by a range of numbers, dictionaries are indexed by keys, which can be any type like strings and numbers.\n"
      ]
    },
    {
      "cell_type": "code",
      "metadata": {
        "colab": {
          "base_uri": "https://localhost:8080/"
        },
        "id": "pAUx5wb1v5ih",
        "outputId": "c16b81a3-17fc-477a-9b4b-c8c002f2f309"
      },
      "source": [
        "dic = {'fruit': ['apple', 'orange'], 'animal': ['cat', 'dog']}\n",
        "print(dic)\n",
        "print()\n",
        "\n",
        "print('add food with value of soup')\n",
        "dic['food']=['soup']\n",
        "print(dic)\n",
        "print()\n",
        "\n",
        "print('add value of banana into fruit')\n",
        "dic['fruit'].append('banana')\n",
        "print(dic)\n"
      ],
      "execution_count": 61,
      "outputs": [
        {
          "output_type": "stream",
          "name": "stdout",
          "text": [
            "{'fruit': ['apple', 'orange'], 'animal': ['cat', 'dog']}\n",
            "\n",
            "add food with value of soup\n",
            "{'fruit': ['apple', 'orange'], 'animal': ['cat', 'dog'], 'food': ['soup']}\n",
            "\n",
            "add value of banana into fruit\n",
            "{'fruit': ['apple', 'orange', 'banana'], 'animal': ['cat', 'dog'], 'food': ['soup']}\n"
          ]
        }
      ]
    },
    {
      "cell_type": "markdown",
      "metadata": {
        "id": "_BJqDpJuv5ii"
      },
      "source": [
        "Create a dictionary where the keys are integer numbers from 0 to 10 and the corresponding values are the square of the key value.  "
      ]
    },
    {
      "cell_type": "code",
      "metadata": {
        "colab": {
          "base_uri": "https://localhost:8080/"
        },
        "id": "C4Pv5DFXv5ii",
        "outputId": "8df060f4-77fc-4de9-a172-efef5347472e"
      },
      "source": [
        "# your code here\n",
        "\n",
        "dic2 = {}\n",
        "for i in range(0,10):\n",
        "  dic2[i] = i**2\n",
        "dic2"
      ],
      "execution_count": 67,
      "outputs": [
        {
          "output_type": "execute_result",
          "data": {
            "text/plain": [
              "{0: 0, 1: 1, 2: 4, 3: 9, 4: 16, 5: 25, 6: 36, 7: 49, 8: 64, 9: 81}"
            ]
          },
          "metadata": {},
          "execution_count": 67
        }
      ]
    },
    {
      "cell_type": "markdown",
      "metadata": {
        "id": "VWGSOTBev5ii"
      },
      "source": [
        "## Getting started with File Input & Output\n",
        "\n",
        "Python can easily handle reading and writing files. As far as Python is concerned, a file is just a string (often very large!) stored on your local file system, that you can read or write, gradually or all together.\n",
        "\n",
        "### Writing Files\n",
        "\n",
        "*open()* returns a file object, and is most commonly used with two arguments: *open(filename, mode)*."
      ]
    },
    {
      "cell_type": "code",
      "metadata": {
        "id": "Bz98J34Rv5ij"
      },
      "source": [
        "outFile = open('sample.txt', 'w')\n",
        "outFile.write('The first line\\nThe second line\\nThe third line\\n')\n",
        "outFile.close()"
      ],
      "execution_count": 68,
      "outputs": []
    },
    {
      "cell_type": "markdown",
      "metadata": {
        "id": "iUv3PV63v5ij"
      },
      "source": [
        "The first line creates a file object, which links Python to your computer’s file system. The first parameter in the file constructor gives the file name, *sample.txt*. The second parameter indicates how you use the file. The 'w' is short for **w**rite. If the file already existed, the old contents are destroyed.\n",
        "\n",
        "And 'a' opens the file for **a**ppending; any data written to the file is automatically added to the end. 'r+' opens the file for both reading and writing.\n",
        "\n",
        "The *close* line is essential for Python to make sure everything is really written, and to relinquish control of the file."
      ]
    },
    {
      "cell_type": "markdown",
      "metadata": {
        "id": "zHEqleyev5ij"
      },
      "source": [
        "### Methods of File Objects\n",
        "\n",
        "To read a file’s contents, call *f.read(size)*, which reads some quantity of data and returns it as a string. *size* is an optional numeric argument. When *size* is omitted or negative, the entire contents of the file will be read and returned."
      ]
    },
    {
      "cell_type": "code",
      "metadata": {
        "colab": {
          "base_uri": "https://localhost:8080/",
          "height": 35
        },
        "id": "OEQBArktv5ik",
        "outputId": "528988b3-6cb0-4017-ea23-8eb067b6ebbe"
      },
      "source": [
        "outFile = open('sample.txt', 'r')\n",
        "outFile.read()"
      ],
      "execution_count": 69,
      "outputs": [
        {
          "output_type": "execute_result",
          "data": {
            "application/vnd.google.colaboratory.intrinsic+json": {
              "type": "string"
            },
            "text/plain": [
              "'The first line\\nThe second line\\nThe third line\\n'"
            ]
          },
          "metadata": {},
          "execution_count": 69
        }
      ]
    },
    {
      "cell_type": "markdown",
      "metadata": {
        "id": "BoEuqPWNv5ik"
      },
      "source": [
        "For reading lines from a file, you can loop over the file object. This is memory efficient, fast, and leads to simple code:"
      ]
    },
    {
      "cell_type": "code",
      "metadata": {
        "colab": {
          "base_uri": "https://localhost:8080/"
        },
        "id": "UWDsiF6mv5il",
        "outputId": "d9889c8a-1816-4c9a-b424-8d72d966a853"
      },
      "source": [
        "outFile = open('sample.txt', 'r')\n",
        "for line in outFile:\n",
        "    print(line, end='')"
      ],
      "execution_count": 70,
      "outputs": [
        {
          "output_type": "stream",
          "name": "stdout",
          "text": [
            "The first line\n",
            "The second line\n",
            "The third line\n"
          ]
        }
      ]
    },
    {
      "cell_type": "markdown",
      "metadata": {
        "id": "NeUQUn5Mv5il"
      },
      "source": [
        "It is good practice to use the *with* keyword when dealing with file objects. This has the advantage that the file is properly closed after its suite finishes, even if an exception is raised on the way. It is also much shorter than writing equivalent try-finally blocks:"
      ]
    },
    {
      "cell_type": "code",
      "metadata": {
        "colab": {
          "base_uri": "https://localhost:8080/",
          "height": 35
        },
        "id": "iFU1FymHv5im",
        "outputId": "f9ded965-af69-423f-d97e-52a469fa2561"
      },
      "source": [
        "with open('sample.txt', 'r') as f:\n",
        "    outFile = f.read()\n",
        "outFile"
      ],
      "execution_count": 71,
      "outputs": [
        {
          "output_type": "execute_result",
          "data": {
            "application/vnd.google.colaboratory.intrinsic+json": {
              "type": "string"
            },
            "text/plain": [
              "'The first line\\nThe second line\\nThe third line\\n'"
            ]
          },
          "metadata": {},
          "execution_count": 71
        }
      ]
    },
    {
      "cell_type": "code",
      "metadata": {
        "colab": {
          "base_uri": "https://localhost:8080/"
        },
        "id": "RoyADSHVv5im",
        "outputId": "75fde295-87db-4ef4-aaaa-48eef67933b7"
      },
      "source": [
        "f.closed"
      ],
      "execution_count": 72,
      "outputs": [
        {
          "output_type": "execute_result",
          "data": {
            "text/plain": [
              "True"
            ]
          },
          "metadata": {},
          "execution_count": 72
        }
      ]
    },
    {
      "cell_type": "code",
      "metadata": {
        "id": "BNzRLLPrv5in"
      },
      "source": [
        "with open('sample.txt', 'a') as f:\n",
        "    f.write('The fourth line\\n')"
      ],
      "execution_count": 73,
      "outputs": []
    },
    {
      "cell_type": "code",
      "metadata": {
        "colab": {
          "base_uri": "https://localhost:8080/"
        },
        "id": "DxM1H-ZBv5in",
        "outputId": "7feaa130-cbd4-4bed-d7b7-c777324dfb50"
      },
      "source": [
        "with open('sample.txt', 'r') as f:\n",
        "    print(f.readlines())  # readlines – reads the entire file and returns it as a list of strings"
      ],
      "execution_count": 74,
      "outputs": [
        {
          "output_type": "stream",
          "name": "stdout",
          "text": [
            "['The first line\\n', 'The second line\\n', 'The third line\\n', 'The fourth line\\n']\n"
          ]
        }
      ]
    },
    {
      "cell_type": "markdown",
      "metadata": {
        "id": "DrEBxX_hv5in"
      },
      "source": [
        "### Open a Remote File via URL\n",
        "\n",
        "Python can easily access the content of a webpage via its URL, and print out locally line-by-line without saving a local copy of the file. "
      ]
    },
    {
      "cell_type": "code",
      "metadata": {
        "colab": {
          "base_uri": "https://localhost:8080/"
        },
        "id": "oJGTj2W8v5io",
        "outputId": "d9681fc2-6dcf-4291-8b9b-76ff267543a1"
      },
      "source": [
        "import urllib3  # the lib that handles the url stuff\n",
        "\n",
        "url = \"http://people.tamu.edu/~sumedhpendurkar/hw0.txt\"\n",
        "\n",
        "# your code here: open the url. Hint: take a look at urllib3.PoolManager\n",
        "\n",
        "http = urllib3.PoolManager() #got this from https://urllib3.readthedocs.io/en/latest/reference/urllib3.poolmanager.html\n",
        "\n",
        "resp1 = http.request(\"GET\",url)\n",
        "\n",
        "# your code here: now print out each line\n",
        "print(resp1.data)  \n"
      ],
      "execution_count": 97,
      "outputs": [
        {
          "output_type": "stream",
          "name": "stdout",
          "text": [
            "b'Data mining is a process of extracting and discovering patterns in large data sets involving methods at the intersection of machine learning, statistics, and database systems. Data mining is an interdisciplinary subfield of computer science and statistics with an overall goal to extract information (with intelligent methods) from a data set and transform the information into a comprehensible structure for further use. Data mining is the analysis step of the \"knowledge discovery in databases\" process, or KDD. Aside from the raw analysis step, it also involves database and data management aspects, data pre-processing, model and inference considerations, interestingness metrics, complexity considerations, post-processing of discovered structures, visualization, and online updating.\\r\\n\\r\\nThe term \"data mining\" is a misnomer, because the goal is the extraction of patterns and knowledge from large amounts of data, not the extraction (mining) of data itself. It also is a buzzword and is frequently applied to any form of large-scale data or information processing (collection, extraction, warehousing, analysis, and statistics) as well as any application of computer decision support system, including artificial intelligence (e.g., machine learning) and business intelligence. The book Data mining: Practical machine learning tools and techniques with Java (which covers mostly machine learning material) was originally to be named just Practical machine learning, and the term data mining was only added for marketing reasons. Often the more general terms (large scale) data analysis and analytics or, when referring to actual methods, artificial intelligence and machine learning are more appropriate.\\r\\n\\r\\nsource: https://en.wikipedia.org/wiki/Data_mining'\n"
          ]
        }
      ]
    },
    {
      "cell_type": "markdown",
      "metadata": {
        "id": "-AlmWfu7v5io"
      },
      "source": [
        "## Counting Word Frequency\n",
        "\n",
        "One of the most fundamental tasks in information retrieval is to count the frequency of each word in a document.\n",
        "\n",
        "In the following example, we start with a string and split it into a list. We then create an (initially empty) list called *wordfreq*, go through each word in the *wordlist*, and count the number of times that word appears in the whole list. We then add each word’s count to our wordfreq list. Using the *zip* operation, we are able to match the first word of the word list with the first number in the frequency list, the second word and second frequency, and so on. We end up with a list of word and frequency pairs. The *str* function converts any object to a string so that it can be printed."
      ]
    },
    {
      "cell_type": "code",
      "metadata": {
        "colab": {
          "base_uri": "https://localhost:8080/"
        },
        "id": "enZ3Dj0dv5io",
        "outputId": "5a889fdd-9fa0-480a-ad38-78bbdaaf895d"
      },
      "source": [
        "wordstring = 'it was the best of times it was the worst of times '\n",
        "wordstring += 'it was the age of wisdom it was the age of foolishness'\n",
        "\n",
        "wordlist = wordstring.split()\n",
        "\n",
        "wordfreq = []\n",
        "for w in wordlist:\n",
        "    wordfreq.append(wordlist.count(w))\n",
        "\n",
        "print(\"String\\n\" + wordstring +\"\\n\")\n",
        "print(\"List\\n\" + str(wordlist) + \"\\n\")\n",
        "print(\"Frequencies\\n\" + str(wordfreq) + \"\\n\")\n",
        "print(\"Pairs\\n\" + str(dict(zip(wordlist, wordfreq))))"
      ],
      "execution_count": 78,
      "outputs": [
        {
          "output_type": "stream",
          "name": "stdout",
          "text": [
            "String\n",
            "it was the best of times it was the worst of times it was the age of wisdom it was the age of foolishness\n",
            "\n",
            "List\n",
            "['it', 'was', 'the', 'best', 'of', 'times', 'it', 'was', 'the', 'worst', 'of', 'times', 'it', 'was', 'the', 'age', 'of', 'wisdom', 'it', 'was', 'the', 'age', 'of', 'foolishness']\n",
            "\n",
            "Frequencies\n",
            "[4, 4, 4, 1, 4, 2, 4, 4, 4, 1, 4, 2, 4, 4, 4, 2, 4, 1, 4, 4, 4, 2, 4, 1]\n",
            "\n",
            "Pairs\n",
            "{'it': 4, 'was': 4, 'the': 4, 'best': 1, 'of': 4, 'times': 2, 'worst': 1, 'age': 2, 'wisdom': 1, 'foolishness': 1}\n"
          ]
        }
      ]
    },
    {
      "cell_type": "markdown",
      "metadata": {
        "id": "4Pr-So9Lv5ip"
      },
      "source": [
        "Now, your job is to open up the url we mentioned a few cells above. Then output the word-frequency pairs in that url, sorted in order of descending frequency. In the case of ours Dickens example here, the output would look something like: [('of', 4), ('it', 4), ('the', 4), ('was', 4), ('age', 2), ('times', 2), ('foolishness', 1), ('worst', 1), ('wisdom', 1), ('best', 1)].\n",
        "\n",
        "Your job is to output a the word-frequency pairs for the url."
      ]
    },
    {
      "cell_type": "code",
      "metadata": {
        "colab": {
          "base_uri": "https://localhost:8080/"
        },
        "id": "JxYc0EkOv5ip",
        "outputId": "934ff748-90fa-4a7a-8009-4ba366d8ee57"
      },
      "source": [
        "# your code here\n",
        "\n",
        "urldata = resp1.data\n",
        "urldata = urldata.decode('utf-8')\n",
        "urlList = urldata.split()\n",
        "\n",
        "urlCount = []\n",
        "for i in urlList:\n",
        "  urlCount.append(urlList.count(i))\n",
        "dic2 = dict(zip(urlList, urlCount))\n",
        "sortedDic2 = sorted(dic2.items(), key=lambda item: item[1], reverse= True) # Got this line from https://stackoverflow.com/questions/613183/how-do-i-sort-a-dictionary-by-value\n",
        "sortedDic2\n"
      ],
      "execution_count": 125,
      "outputs": [
        {
          "output_type": "execute_result",
          "data": {
            "text/plain": [
              "[('and', 15),\n",
              " ('of', 10),\n",
              " ('the', 10),\n",
              " ('data', 8),\n",
              " ('is', 7),\n",
              " ('machine', 6),\n",
              " ('a', 5),\n",
              " ('Data', 4),\n",
              " ('mining', 4),\n",
              " ('to', 4),\n",
              " ('information', 3),\n",
              " ('from', 3),\n",
              " ('analysis', 3),\n",
              " ('learning', 3),\n",
              " ('patterns', 2),\n",
              " ('in', 2),\n",
              " ('large', 2),\n",
              " ('learning,', 2),\n",
              " ('database', 2),\n",
              " ('an', 2),\n",
              " ('computer', 2),\n",
              " ('with', 2),\n",
              " ('goal', 2),\n",
              " ('for', 2),\n",
              " ('or', 2),\n",
              " ('also', 2),\n",
              " ('considerations,', 2),\n",
              " ('The', 2),\n",
              " ('term', 2),\n",
              " ('extraction', 2),\n",
              " ('any', 2),\n",
              " ('as', 2),\n",
              " ('artificial', 2),\n",
              " ('intelligence', 2),\n",
              " ('Practical', 2),\n",
              " ('was', 2),\n",
              " ('more', 2),\n",
              " ('process', 1),\n",
              " ('extracting', 1),\n",
              " ('discovering', 1),\n",
              " ('sets', 1),\n",
              " ('involving', 1),\n",
              " ('methods', 1),\n",
              " ('at', 1),\n",
              " ('intersection', 1),\n",
              " ('statistics,', 1),\n",
              " ('systems.', 1),\n",
              " ('interdisciplinary', 1),\n",
              " ('subfield', 1),\n",
              " ('science', 1),\n",
              " ('statistics', 1),\n",
              " ('overall', 1),\n",
              " ('extract', 1),\n",
              " ('(with', 1),\n",
              " ('intelligent', 1),\n",
              " ('methods)', 1),\n",
              " ('set', 1),\n",
              " ('transform', 1),\n",
              " ('into', 1),\n",
              " ('comprehensible', 1),\n",
              " ('structure', 1),\n",
              " ('further', 1),\n",
              " ('use.', 1),\n",
              " ('step', 1),\n",
              " ('\"knowledge', 1),\n",
              " ('discovery', 1),\n",
              " ('databases\"', 1),\n",
              " ('process,', 1),\n",
              " ('KDD.', 1),\n",
              " ('Aside', 1),\n",
              " ('raw', 1),\n",
              " ('step,', 1),\n",
              " ('it', 1),\n",
              " ('involves', 1),\n",
              " ('management', 1),\n",
              " ('aspects,', 1),\n",
              " ('pre-processing,', 1),\n",
              " ('model', 1),\n",
              " ('inference', 1),\n",
              " ('interestingness', 1),\n",
              " ('metrics,', 1),\n",
              " ('complexity', 1),\n",
              " ('post-processing', 1),\n",
              " ('discovered', 1),\n",
              " ('structures,', 1),\n",
              " ('visualization,', 1),\n",
              " ('online', 1),\n",
              " ('updating.', 1),\n",
              " ('\"data', 1),\n",
              " ('mining\"', 1),\n",
              " ('misnomer,', 1),\n",
              " ('because', 1),\n",
              " ('knowledge', 1),\n",
              " ('amounts', 1),\n",
              " ('data,', 1),\n",
              " ('not', 1),\n",
              " ('(mining)', 1),\n",
              " ('itself.', 1),\n",
              " ('It', 1),\n",
              " ('buzzword', 1),\n",
              " ('frequently', 1),\n",
              " ('applied', 1),\n",
              " ('form', 1),\n",
              " ('large-scale', 1),\n",
              " ('processing', 1),\n",
              " ('(collection,', 1),\n",
              " ('extraction,', 1),\n",
              " ('warehousing,', 1),\n",
              " ('analysis,', 1),\n",
              " ('statistics)', 1),\n",
              " ('well', 1),\n",
              " ('application', 1),\n",
              " ('decision', 1),\n",
              " ('support', 1),\n",
              " ('system,', 1),\n",
              " ('including', 1),\n",
              " ('(e.g.,', 1),\n",
              " ('learning)', 1),\n",
              " ('business', 1),\n",
              " ('intelligence.', 1),\n",
              " ('book', 1),\n",
              " ('mining:', 1),\n",
              " ('tools', 1),\n",
              " ('techniques', 1),\n",
              " ('Java', 1),\n",
              " ('(which', 1),\n",
              " ('covers', 1),\n",
              " ('mostly', 1),\n",
              " ('material)', 1),\n",
              " ('originally', 1),\n",
              " ('be', 1),\n",
              " ('named', 1),\n",
              " ('just', 1),\n",
              " ('only', 1),\n",
              " ('added', 1),\n",
              " ('marketing', 1),\n",
              " ('reasons.', 1),\n",
              " ('Often', 1),\n",
              " ('general', 1),\n",
              " ('terms', 1),\n",
              " ('(large', 1),\n",
              " ('scale)', 1),\n",
              " ('analytics', 1),\n",
              " ('or,', 1),\n",
              " ('when', 1),\n",
              " ('referring', 1),\n",
              " ('actual', 1),\n",
              " ('methods,', 1),\n",
              " ('are', 1),\n",
              " ('appropriate.', 1),\n",
              " ('source:', 1),\n",
              " ('https://en.wikipedia.org/wiki/Data_mining', 1)]"
            ]
          },
          "metadata": {},
          "execution_count": 125
        }
      ]
    },
    {
      "cell_type": "code",
      "metadata": {
        "id": "I6hlDCwOAAs1"
      },
      "source": [
        ""
      ],
      "execution_count": null,
      "outputs": []
    }
  ]
}